{
 "cells": [
  {
   "cell_type": "code",
   "execution_count": 65,
   "metadata": {},
   "outputs": [],
   "source": [
    "import pandas as pd\n",
    "import numpy as np"
   ]
  },
  {
   "cell_type": "code",
   "execution_count": 70,
   "metadata": {},
   "outputs": [
    {
     "name": "stdout",
     "output_type": "stream",
     "text": [
      "How important is option0 over option1 ?: 0.5\n",
      "How important is option0 over option2 ?: 0.25\n",
      "How important is option1 over option2 ?: 0.5\n"
     ]
    }
   ],
   "source": [
    "n = 3\n",
    "A = np.ones([n,n])\n",
    "for i in range(0,n):\n",
    "    for j in range(0,n):\n",
    "        if i<j:\n",
    "            aij = input('How important is option{} over option{} ?: '.format(i,j))\n",
    "            A[i,j] = float(aij)\n",
    "            A[j,i] = 1/float(aij)"
   ]
  },
  {
   "cell_type": "code",
   "execution_count": 71,
   "metadata": {},
   "outputs": [
    {
     "data": {
      "text/plain": [
       "array([0.14285714, 0.28571429, 0.57142857])"
      ]
     },
     "execution_count": 71,
     "metadata": {},
     "output_type": "execute_result"
    }
   ],
   "source": [
    "e = np.linalg.eig(A)[1][:,0]\n",
    "p = e/e.sum()\n",
    "p"
   ]
  },
  {
   "cell_type": "code",
   "execution_count": 72,
   "metadata": {},
   "outputs": [],
   "source": [
    "def pairwise_matrix(n):\n",
    "\n",
    "    A = np.ones([n,n])\n",
    "    for i in range(0,n):\n",
    "        for j in range(0,n):\n",
    "            if i<j:\n",
    "                aij = input('How important is option{} over option{} ?: '.format(i,j))\n",
    "                A[i,j] = float(aij)\n",
    "                A[j,i] = 1/float(aij)\n",
    "\n",
    "    #Computing the priority vector \n",
    "    eig_val = np.linalg.eig(A)[0]\n",
    "    eig_vec = np.linalg.eig(A)[1][:,0]\n",
    "    p = eig_vec/eig_vec.sum()\n",
    "    return p, eig_val"
   ]
  },
  {
   "cell_type": "code",
   "execution_count": 73,
   "metadata": {},
   "outputs": [
    {
     "name": "stdout",
     "output_type": "stream",
     "text": [
      "How important is option0 over option1 ?: 0.5\n",
      "How important is option0 over option2 ?: 0.25\n",
      "How important is option1 over option2 ?: 0.5\n"
     ]
    }
   ],
   "source": [
    "pr_c, eig = pairwise_matrix(3)"
   ]
  },
  {
   "cell_type": "code",
   "execution_count": 74,
   "metadata": {},
   "outputs": [
    {
     "name": "stdout",
     "output_type": "stream",
     "text": [
      "How important is option0 over option1 ?: 1\n",
      "How important is option0 over option2 ?: 4\n",
      "How important is option1 over option2 ?: 4\n"
     ]
    }
   ],
   "source": [
    "pr_c0, eig0 = pairwise_matrix(3)"
   ]
  },
  {
   "cell_type": "code",
   "execution_count": 75,
   "metadata": {},
   "outputs": [
    {
     "name": "stdout",
     "output_type": "stream",
     "text": [
      "How important is option0 over option1 ?: 2\n",
      "How important is option0 over option2 ?: 6\n",
      "How important is option1 over option2 ?: 3\n"
     ]
    }
   ],
   "source": [
    "pr_c1, eig1 = pairwise_matrix(3)"
   ]
  },
  {
   "cell_type": "code",
   "execution_count": 76,
   "metadata": {},
   "outputs": [
    {
     "name": "stdout",
     "output_type": "stream",
     "text": [
      "How important is option0 over option1 ?: 0.5\n",
      "How important is option0 over option2 ?: 0.125\n",
      "How important is option1 over option2 ?: 0.25\n"
     ]
    }
   ],
   "source": [
    "pr_c2, eig2 = pairwise_matrix(3)"
   ]
  },
  {
   "cell_type": "code",
   "execution_count": 77,
   "metadata": {},
   "outputs": [],
   "source": [
    "r = pr_c0*pr_c[0] + pr_c1*pr_c[1] + pr_c2*pr_c[2]"
   ]
  },
  {
   "cell_type": "code",
   "execution_count": 78,
   "metadata": {},
   "outputs": [
    {
     "name": "stdout",
     "output_type": "stream",
     "text": [
      "[0.28686869 0.25310245 0.46002886]\n"
     ]
    }
   ],
   "source": [
    "print(r)"
   ]
  }
 ],
 "metadata": {
  "kernelspec": {
   "display_name": "Python 3",
   "language": "python",
   "name": "python3"
  },
  "language_info": {
   "codemirror_mode": {
    "name": "ipython",
    "version": 3
   },
   "file_extension": ".py",
   "mimetype": "text/x-python",
   "name": "python",
   "nbconvert_exporter": "python",
   "pygments_lexer": "ipython3",
   "version": "3.7.6"
  }
 },
 "nbformat": 4,
 "nbformat_minor": 4
}
